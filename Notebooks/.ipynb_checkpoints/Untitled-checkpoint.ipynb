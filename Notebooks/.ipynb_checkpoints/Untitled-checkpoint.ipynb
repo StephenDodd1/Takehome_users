{
 "cells": [
  {
   "cell_type": "code",
   "execution_count": 7,
   "id": "67b7f1ab",
   "metadata": {},
   "outputs": [],
   "source": [
    "import pandas as pd"
   ]
  },
  {
   "cell_type": "code",
   "execution_count": 9,
   "id": "e64e4f65",
   "metadata": {},
   "outputs": [],
   "source": [
    "users_df = pd.read_csv('../takehome_users.csv', encoding='ISO-8859-1')\n",
    "users_engagement_df = pd.read_csv('../takehome_user_engagement.csv', encoding='ISO-8859-1')"
   ]
  },
  {
   "cell_type": "code",
   "execution_count": null,
   "id": "573ea0ee",
   "metadata": {},
   "outputs": [],
   "source": []
  }
 ],
 "metadata": {
  "kernelspec": {
   "display_name": "Python 3 (ipykernel)",
   "language": "python",
   "name": "python3"
  },
  "language_info": {
   "codemirror_mode": {
    "name": "ipython",
    "version": 3
   },
   "file_extension": ".py",
   "mimetype": "text/x-python",
   "name": "python",
   "nbconvert_exporter": "python",
   "pygments_lexer": "ipython3",
   "version": "3.9.7"
  }
 },
 "nbformat": 4,
 "nbformat_minor": 5
}
